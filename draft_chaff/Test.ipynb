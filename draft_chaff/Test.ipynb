{
 "cells": [
  {
   "cell_type": "code",
   "execution_count": 129,
   "metadata": {},
   "outputs": [],
   "source": [
    "import sys\n",
    "import cairocffi as cairo\n",
    "import re\n",
    "import Bio\n",
    "import matplotlib as mp\n",
    "from Bio import SeqIO"
   ]
  },
  {
   "cell_type": "code",
   "execution_count": 185,
   "metadata": {},
   "outputs": [
    {
     "name": "stdout",
     "output_type": "stream",
     "text": [
      "['(?=([uct]gc[uct]))', '(?=(gcatg))', '(?=(catag))', '(?=([uct][uct][uct][uct][uct][uct][uct][uct][uct][uct]))']\n"
     ]
    }
   ],
   "source": [
    "mot=\"\"\n",
    "with open('Fig_1_motifs.txt', \"r\") as m:\n",
    "    m_ref = []\n",
    "    m_raw = []\n",
    "    for line in m:\n",
    "        x = line.split('\\t')[0]\n",
    "        y = x.strip()\n",
    "        m_raw.append(y)\n",
    "        for letter in y:\n",
    "            mot = mot + reg_ref[letter].lower()\n",
    "        m_ref.append(\"(?=(\"+mot+\"))\")\n",
    "        mot = \"\"\n",
    "        \n",
    "print(m_ref)"
   ]
  },
  {
   "cell_type": "code",
   "execution_count": 115,
   "metadata": {},
   "outputs": [],
   "source": [
    "m_ref = ['ygcy', 'GCAUG', 'catag', 'YYYYYYYYYY']\n",
    "\n",
    "reg_ref = {\"y\": \"[uct]\", \"g\": \"g\", \"c\": \"c\", \"t\":\"t\", \"a\": \"a\", \"u\": \"t\", \"n\": \"[uctag]\", \"Y\": \"[UCT]\", \"G\": \"G\",\"T\":\"T\", \"C\": \"C\", \"A\": \"A\", \"U\": \"T\", \"N\": \"[UCTAG]\"}\n",
    "\n",
    "m_ref2 = []\n",
    "mot = \"\"\n",
    "\n",
    "for cha in m_ref:\n",
    "    for letter in cha:\n",
    "        mot = mot + reg_ref[letter].lower()\n",
    "    m_ref2.append(\"(?=(\"+mot+\"))\")\n",
    "    mot = \"\""
   ]
  },
  {
   "cell_type": "code",
   "execution_count": null,
   "metadata": {},
   "outputs": [],
   "source": [
    "#m_ref2[1].lower()\n",
    "#sequence.lower()\n",
    "#tertest=re.finditer(m_ref2[0].lower(), sequence.lower())\n"
   ]
  },
  {
   "cell_type": "code",
   "execution_count": 116,
   "metadata": {
    "scrolled": true
   },
   "outputs": [
    {
     "data": {
      "text/plain": [
       "['(?=([uct]gc[uct]))',\n",
       " '(?=(gcatg))',\n",
       " '(?=(catag))',\n",
       " '(?=([uct][uct][uct][uct][uct][uct][uct][uct][uct][uct]))']"
      ]
     },
     "execution_count": 116,
     "metadata": {},
     "output_type": "execute_result"
    }
   ],
   "source": [
    "m_ref2"
   ]
  },
  {
   "cell_type": "code",
   "execution_count": 197,
   "metadata": {
    "scrolled": false
   },
   "outputs": [],
   "source": [
    "max_len = 0\n",
    "num_record=0\n",
    "for record in SeqIO.parse('Figure_1.fasta', \"fasta\"):\n",
    "    num_record+=1\n",
    "    if len(record) > max_len:\n",
    "        max_len = len(record)\n",
    "\n",
    "image = cairo.SVGSurface(\"Figure_1.svg\", (max_len+100), (num_record*200))\n",
    "#scale to len of read\n",
    "context = cairo.Context(image)\n",
    "motif_color=0\n",
    "count=0\n",
    "point_x = 10\n",
    "point_y = 75\n",
    "\n",
    "# Cyan, Blue, Violet, Purple-Red, Light Gray, Dark Gray, Red, Orange, Yellow, Green,       \n",
    "RGB = [[0,0.8,0.8],[0,0,0.8],[0.6,0,0.6],[0.8,0,0],[0.25,0.25,0.25],\n",
    "       [0.5,0.5,0.5],[0.6,0,0.3],[0.8,0.4,0],[0.8,0,0.8],[0,0.8,0]]\n",
    "\n",
    "for record in SeqIO.parse('Figure_1.fasta', \"fasta\"):   \n",
    "    header = str('>'+record.id)\n",
    "    sequence = str(record.seq)\n",
    "    back =str(record.seq)\n",
    "    exon = re.findall(r'[A-Z]+', sequence)\n",
    "    #setting aesthetics\n",
    "    context.set_line_width(2)\n",
    "    context.set_source_rgb(0, 0, 0)\n",
    "    #header\n",
    "    context.move_to(point_x, point_y)\n",
    "    context.set_font_size(10)\n",
    "    context.show_text(header)\n",
    "    #drawing a line for the sequence\n",
    "    context.move_to(point_x+50, point_y)\n",
    "    context.line_to((len(sequence)+point_x+50), point_y)\n",
    "    context.move_to(point_x, point_y-30)\n",
    "    #drawing a rectangle for the exon\n",
    "    exon_start = sequence.find(exon[0]) + 1 + point_x\n",
    "    context.rectangle(exon_start, point_y-15, len(exon[0]), 30)\n",
    "    context.stroke()\n",
    "    \n",
    "    for m in m_ref2:\n",
    "        sequence = str(record.seq)\n",
    "        pos = 1\n",
    "        loc = re.findall(m, sequence.lower())\n",
    "        firstPass = True\n",
    "        motif_color=m_ref2.index(m)\n",
    "        context.set_source_rgb(RGB[motif_color][0], RGB[motif_color][1], RGB[motif_color][2])\n",
    "        context.stroke()\n",
    "        if len(loc)==0:\n",
    "            context.set_font_size(10)\n",
    "            context.move_to(point_x, point_y + (len(m_ref)*9) + (motif_color * 10))\n",
    "            string= str(\"There are 0 occurances of \"+ m_raw[motif_color]) + \" in this record\"\n",
    "            context.show_text(string)\n",
    "            \n",
    "        for x in range(len(loc)):\n",
    "\n",
    "            motifs = sequence.lower().find(loc[x]) + pos\n",
    "    \n",
    "            context.set_line_width(1+ (len(m)/10))\n",
    "\n",
    "            context.move_to(motifs+point_x+50 + (len(loc)/2), point_y+10)\n",
    "            context.line_to(motifs+point_x+50 + (len(loc)/2), point_y-10)\n",
    "\n",
    "            context.stroke()\n",
    "        \n",
    "            pos += sequence.lower().find(loc[x]) +1\n",
    "            #i think the problem i'm havig is that it's finding one and then not marking the others\n",
    "            \n",
    "            sequence = sequence[(sequence.lower().find(loc[x])+1):]    \n",
    "            if firstPass == True: \n",
    "                context.set_font_size(10)\n",
    "                context.move_to(point_x, point_y + (len(m_ref)*9) + (motif_color * 10))\n",
    "                string= str(\"There are \" + str(len(loc)) + \" occurances of \"+ m_raw[motif_color]) + \" in this record\"\n",
    "                context.show_text(string)\n",
    "                firstPass = False\n",
    "\n",
    "    point_y += (len(m_ref)*25)\n",
    "    count+=1\n",
    "\n",
    "image.finish()"
   ]
  },
  {
   "cell_type": "code",
   "execution_count": 147,
   "metadata": {},
   "outputs": [
    {
     "data": {
      "text/plain": [
       "10"
      ]
     },
     "execution_count": 147,
     "metadata": {},
     "output_type": "execute_result"
    }
   ],
   "source": [
    "list.index()"
   ]
  },
  {
   "cell_type": "code",
   "execution_count": 83,
   "metadata": {},
   "outputs": [
    {
     "data": {
      "text/plain": [
       "'gccttttgggtaactctttagtattttagcttctagttcctcctctctgccctgttctgctggtactttcttccaagaaaaaggaactcttaagaggatgagagttggctaaaacaaaaaataatctttctttcaactgtggcactaccctgggttgcccgtctgtgttttattttccaaaggcaaaaaaaccattatgctatgttaagctaatttcaatacaaggcacacttacttgcttcagactctgctttgctgttgaacttgtttcccttttaattttgttttaaattgtacttttgcttttttagtagctaataacattcggctttttaattttttgaatgttactaactgttccctgttatcccttcccttgttttttaatttgcttaaagATGGTACTACCACTAAAGCGGAGGgtaagcggtttgtttctgtgattgaggtgtgtctcactttctctggtcctctgttctcaccgagtgttgcccagtacccacttgtcctcaccaaggtccctgcatgagatgttgcacgctgtttctcctcctctcttttcattctgtcgccattgggtttttgccctacctctacctgagttctccttccctttcttgttcagtctttgttcttgtgaattttagcactaaagtatgctgcgtgtggtttttattgctgagtccacactctggggaggagcattgatgtcacactgtgtgctactgtcctcatggactgcctgtcttgggttttattactcctgaa'"
      ]
     },
     "execution_count": 83,
     "metadata": {},
     "output_type": "execute_result"
    }
   ],
   "source": [
    "sequence[sequence.lower().find('tgcc')+1:]"
   ]
  },
  {
   "cell_type": "code",
   "execution_count": 118,
   "metadata": {},
   "outputs": [
    {
     "data": {
      "text/plain": [
       "120"
      ]
     },
     "execution_count": 118,
     "metadata": {},
     "output_type": "execute_result"
    }
   ],
   "source": [
    "count"
   ]
  }
 ],
 "metadata": {
  "kernelspec": {
   "display_name": "Python 3",
   "language": "python",
   "name": "python3"
  },
  "language_info": {
   "codemirror_mode": {
    "name": "ipython",
    "version": 3
   },
   "file_extension": ".py",
   "mimetype": "text/x-python",
   "name": "python",
   "nbconvert_exporter": "python",
   "pygments_lexer": "ipython3",
   "version": "3.7.3"
  }
 },
 "nbformat": 4,
 "nbformat_minor": 2
}
